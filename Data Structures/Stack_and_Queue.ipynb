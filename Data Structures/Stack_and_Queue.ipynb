{
 "cells": [
  {
   "cell_type": "code",
   "execution_count": null,
   "id": "a9ba4289",
   "metadata": {},
   "outputs": [],
   "source": [
    "# https://btechgeeks.com/python-interview-questions-on-stacks-queues-and-deque/\n",
    "\n",
    "# https://medium.com/techie-delight/queue-data-structure-practice-problems-and-interview-questions-f459bf0578db\n",
    "\n",
    "# https://codingcompiler.com/python-interview-questions-answers-1-2-3-4-5-years/\n",
    "\n",
    "# https://www.techiedelight.com/queue-interview-questions/"
   ]
  },
  {
   "cell_type": "code",
   "execution_count": 12,
   "id": "28792237",
   "metadata": {
    "scrolled": true
   },
   "outputs": [
    {
     "name": "stdout",
     "output_type": "stream",
     "text": [
      "[5, 7, 9, 11]\n",
      "[5, 7, 9]\n"
     ]
    },
    {
     "data": {
      "text/plain": [
       "9"
      ]
     },
     "execution_count": 12,
     "metadata": {},
     "output_type": "execute_result"
    }
   ],
   "source": [
    "class Stack:\n",
    "    def __init__(self):\n",
    "        self.elements = []\n",
    "    def push(self, ele):\n",
    "        return self.elements.append(ele)\n",
    "    def pop(self):\n",
    "        return self.elements.pop()\n",
    "    def peek(self):\n",
    "        return self.elements[-1]\n",
    "    def is_empty(self):\n",
    "        return len(self.elements) == 0\n",
    "    \n",
    "stckObj = Stack()\n",
    "stckObj.push(5)\n",
    "stckObj.push(7)\n",
    "stckObj.push(9)\n",
    "stckObj.push(11)\n",
    "\n",
    "print(stckObj.elements) #[5, 7, 9, 11]\n",
    "\n",
    "stckObj.pop()\n",
    "print(stckObj.elements) #[5, 7, 9]\n",
    "\n",
    "stckObj.peek() #9\n",
    "\n",
    "stckObj.is_empty() #False"
   ]
  },
  {
   "cell_type": "code",
   "execution_count": 9,
   "id": "2b26874b",
   "metadata": {},
   "outputs": [
    {
     "name": "stdout",
     "output_type": "stream",
     "text": [
      "deque([5, 7, 9])\n"
     ]
    }
   ],
   "source": [
    "# Implementing stack using deque from collections\n",
    "# It is implemented as a double-ended queue. Since it supports the addition and removal of elements from both ends.\n",
    "# Hence we can use it as a stack. We can make it follow the LIFO principle of the stack.\n",
    "# It is implemented using other data structures called the doubly-linked list. So the performance of the insertion and deletion \n",
    "# of elements are consistent. Accessing elements from the middle linked list took O(n) time. \n",
    "# We can use it as a stack as there is no need to access the middle elements from the stack.\n",
    "\n",
    "# Before implementing the stack, let’s see the methods that are used to implement the stack using the queue.\n",
    "\n",
    "# append(data) – used to push the data to the stack\n",
    "# pop() – used to remove the topmost element from the stack\n",
    "# There are no alternative methods for peek and is_empty. We can print the whole stack in place of peek method. \n",
    "# Next, we can use the len method to check whether the stack is empty or not.\n",
    "\n",
    "from collections import deque\n",
    "\n",
    "stack = deque()\n",
    "\n",
    "stack.append(5)\n",
    "stack.append(7)\n",
    "stack.append(9)\n",
    "stack.append(11)\n",
    "\n",
    "len(stack) == 0 #False\n",
    "\n",
    "stack.pop()\n",
    "\n",
    "stack #deque([5, 7, 9])"
   ]
  },
  {
   "cell_type": "code",
   "execution_count": 1,
   "id": "1ffa44d6",
   "metadata": {},
   "outputs": [
    {
     "data": {
      "text/plain": [
       "5"
      ]
     },
     "execution_count": 1,
     "metadata": {},
     "output_type": "execute_result"
    }
   ],
   "source": [
    "# LifoQueue\n",
    "\n",
    "# The name LifoQueue itself says that it follows the LIFO principle. Hence we can use it as a stack without any doubt. \n",
    "# It is from the built-in module queue. The LifoQueue provides some handy methods that are useful in the stack implementation. \n",
    "\n",
    "# put(data) – adds or pushes the data to the queue\n",
    "# get() – removes or pops the topmost element from the queue\n",
    "# empty() – returns whether the stack is empty or not\n",
    "# qsize() – returns the length of the queue\n",
    "\n",
    "from queue import LifoQueue\n",
    "\n",
    "stack = LifoQueue()\n",
    "\n",
    "stack.put(1)\n",
    "stack.put(2)\n",
    "stack.put(3)\n",
    "stack.put(4)\n",
    "stack.put(5)\n",
    "\n",
    "stack.empty() #False\n",
    "stack.qsize() #5\n",
    "\n",
    "stack.get() #5\n",
    " \n"
   ]
  },
  {
   "cell_type": "code",
   "execution_count": 2,
   "id": "2d4e6fa8",
   "metadata": {},
   "outputs": [
    {
     "name": "stdout",
     "output_type": "stream",
     "text": [
      "Balanced\n",
      "Not Balanced\n"
     ]
    }
   ],
   "source": [
    "## stack\n",
    "class Stack: \n",
    "    def __init__(self): \n",
    "        self.elements = [] \n",
    "    \n",
    "    def push(self, data): \n",
    "        self.elements.append(data) \n",
    "        return data \n",
    "        \n",
    "    def pop(self): \n",
    "        return self.elements.pop() \n",
    "    \n",
    "    def peek(self): \n",
    "        return self.elements[-1] \n",
    "        \n",
    "    def is_empty(self): \n",
    "        return len(self.elements) == 0\n",
    "\n",
    "def balance_check(expression):\n",
    "    ## checking the length of the expression\n",
    "    if len(expression) % 2 != 0:\n",
    "        ## not balanced if the length is odd\n",
    "        return False\n",
    "    \n",
    "    ## for checking\n",
    "    opening_brackets = set('([{') \n",
    "    pairs = set([ ('(',')'), ('[',']'), ('{','}') ]) \n",
    "    \n",
    "    ## stack initialization\n",
    "    stack = Stack()\n",
    "    \n",
    "    ## iterating through the given expression\n",
    "    for bracket in expression:\n",
    "\n",
    "        ## checking whether the current bracket is opened or not        \n",
    "        if bracket in opening_brackets:\n",
    "            ## adding to the stack \n",
    "            stack.push(bracket)\n",
    "        else:\n",
    "            ## popping out the last bracket from the stack\n",
    "            popped_bracket = stack.pop()\n",
    "        \n",
    "            ## checking whether popped and current bracket pair\n",
    "            if (popped_bracket, bracket) not in pairs:\n",
    "                return False\n",
    "    \n",
    "    return stack.is_empty()\n",
    "\n",
    "if __name__ == '__main__':\n",
    "    if balance_check('[{}]([])'):\n",
    "        print(\"Balanced\")\n",
    "    else:\n",
    "        print(\"Not Balanced\")\n",
    "    \n",
    "    if balance_check('{[}]([])'):\n",
    "        print(\"Balanced\")\n",
    "    else:\n",
    "        print(\"Not Balanced\")"
   ]
  },
  {
   "cell_type": "code",
   "execution_count": null,
   "id": "1fb89ee6",
   "metadata": {},
   "outputs": [],
   "source": [
    "# implementing queue\n",
    "# link - https://www.softwaretestinghelp.com/python/python-queue-tutorial/#:~:text=How%20to%20Implement%20Queue%20in%20Python%201%20There,initially%20Front%20and%20Rear%20are%20equal%20to%20-1.\n"
   ]
  },
  {
   "cell_type": "code",
   "execution_count": 11,
   "id": "522018cd",
   "metadata": {},
   "outputs": [
    {
     "name": "stdout",
     "output_type": "stream",
     "text": [
      "expression is =  ( [{ }])\n",
      "evaluating  (\n",
      "it is an opening bracket -  ( pushing to stack\n",
      "pushed (  on to stack the stack is  ['(']\n",
      "evaluating   \n",
      "Unbalanced Paranthesis\n",
      "evaluating  [\n",
      "it is an opening bracket -  [ pushing to stack\n",
      "pushed [  on to stack the stack is  ['(', '[']\n",
      "evaluating  {\n",
      "it is an opening bracket -  { pushing to stack\n",
      "pushed {  on to stack the stack is  ['(', '[', '{']\n",
      "evaluating   \n",
      "Unbalanced Paranthesis\n",
      "evaluating  }\n",
      "time to pop element is  {\n",
      "Match Found\n",
      "evaluating  ]\n",
      "time to pop element is  [\n",
      "Match Found\n",
      "evaluating  )\n",
      "time to pop element is  (\n",
      "Match Found\n"
     ]
    }
   ],
   "source": [
    "class paranthesis_match:\n",
    "    opening_brackets = [\"(\",\"{\",\"[\"]\n",
    "    closing_brackets = [\")\",\"}\",\"]\"]\n",
    "    #declare constructor\n",
    "    def __init__(self, expression):\n",
    "        self.expression = expression\n",
    "        self.stack = [ ]\n",
    "    #push operation\n",
    "    def push(self,element):\n",
    "        self.stack.append(element)\n",
    "    #pop operation\n",
    "    def pop(self):\n",
    "        if self.stack == [ ]:\n",
    "            print (\"Unbalanced Paranthesis\")\n",
    "        else:\n",
    "            self.stack.pop( )\n",
    "    def is_match(self):\n",
    "        print (\"expression is = \", self.expression)\n",
    "        if len (self.expression)%2 == 0:\n",
    "            for element in self.expression:\n",
    "                print(\"evaluating \", element)\n",
    "                if element in self.opening_brackets:\n",
    "                    print(\"it is an opening bracket - \", element, \"pushing to stack\")\n",
    "                    self.push(element)\n",
    "                    print(\"pushed\", element, \" on to stack the stack is \", self.stack)\n",
    "                elif element in self.closing_brackets:\n",
    "                    x = self.stack.pop( )\n",
    "                    print(\"time to pop element is \", x)\n",
    "                    if self.opening_brackets.index(x)== self.closing_brackets.index(element):\n",
    "                        print(\"Match Found\")\n",
    "                    else:\n",
    "                        print(\"Match not found - check prarnthesis\")\n",
    "                        return;\n",
    "                else :\n",
    "                    print(\"Unbalanced Paranthesis\")\n",
    "\n",
    "pm = paranthesis_match(\"( [{ }])\") \n",
    "pm.is_match( )"
   ]
  },
  {
   "cell_type": "code",
   "execution_count": null,
   "id": "ba359d4b",
   "metadata": {},
   "outputs": [],
   "source": []
  }
 ],
 "metadata": {
  "kernelspec": {
   "display_name": "Python 3",
   "language": "python",
   "name": "python3"
  },
  "language_info": {
   "codemirror_mode": {
    "name": "ipython",
    "version": 3
   },
   "file_extension": ".py",
   "mimetype": "text/x-python",
   "name": "python",
   "nbconvert_exporter": "python",
   "pygments_lexer": "ipython3",
   "version": "3.8.8"
  }
 },
 "nbformat": 4,
 "nbformat_minor": 5
}
