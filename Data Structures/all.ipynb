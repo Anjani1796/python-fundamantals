{
 "cells": [
  {
   "cell_type": "code",
   "execution_count": 12,
   "id": "2cbb5517",
   "metadata": {},
   "outputs": [
    {
     "data": {
      "text/plain": [
       "8"
      ]
     },
     "execution_count": 12,
     "metadata": {},
     "output_type": "execute_result"
    }
   ],
   "source": [
    "def fib(n):\n",
    "    if n < 0 :\n",
    "        return \"not defined\"\n",
    "    elif n == 0 or n == 1:\n",
    "        return n\n",
    "    else:\n",
    "        return fib(n-1) + fib(n-2)\n",
    "fib(4)\n",
    "fib(6)\n",
    "# fib(8)\n",
    "\n",
    "# fib series: 0 1 1 2 3 5 8 13 21 34 55..........."
   ]
  },
  {
   "cell_type": "code",
   "execution_count": 13,
   "id": "41782510",
   "metadata": {},
   "outputs": [
    {
     "name": "stdout",
     "output_type": "stream",
     "text": [
      "Count: 8\n",
      "[65, 30, 25, 5, 45, 55, 35, 35]\n"
     ]
    }
   ],
   "source": [
    "import random\n",
    "\n",
    "lst = []\n",
    "count = int(input(\"Count: \"))\n",
    "for r in range(count):\n",
    "    \n",
    "    lst.append(random.randrange(5, 100, 5))\n",
    "     \n",
    "print(lst)"
   ]
  },
  {
   "cell_type": "code",
   "execution_count": 14,
   "id": "64f2685b",
   "metadata": {},
   "outputs": [
    {
     "name": "stdout",
     "output_type": "stream",
     "text": [
      "0.38595390041268596\n"
     ]
    }
   ],
   "source": [
    "import random\n",
    "print(random.random())"
   ]
  },
  {
   "cell_type": "code",
   "execution_count": 15,
   "id": "374152a4",
   "metadata": {},
   "outputs": [],
   "source": [
    "import random"
   ]
  },
  {
   "cell_type": "code",
   "execution_count": 22,
   "id": "76f3da31",
   "metadata": {},
   "outputs": [
    {
     "name": "stdout",
     "output_type": "stream",
     "text": [
      "Count: 8\n",
      "[68, 58, 92, 72, 60, 47, 46, 73]\n"
     ]
    }
   ],
   "source": [
    "lst = []\n",
    "for i in range(int(input(\"Count: \"))):\n",
    "    lst.append(random.randint(45, 97))\n",
    "print(lst)"
   ]
  },
  {
   "cell_type": "code",
   "execution_count": 23,
   "id": "402dbec8",
   "metadata": {},
   "outputs": [
    {
     "name": "stdout",
     "output_type": "stream",
     "text": [
      "Element found at index  2\n"
     ]
    }
   ],
   "source": [
    "def linSearch(lst, ele, ln):\n",
    "    for i in range(ln):\n",
    "        if lst[i] == ele:\n",
    "            return i\n",
    "    return -1\n",
    "\n",
    "\n",
    "\n",
    "result = linSearch(lst, 92, len(lst))\n",
    "if result == -1:\n",
    "    print('Element not found')\n",
    "else:\n",
    "    print('Element found at index ', result)"
   ]
  },
  {
   "cell_type": "code",
   "execution_count": 29,
   "id": "73918708",
   "metadata": {},
   "outputs": [
    {
     "name": "stdout",
     "output_type": "stream",
     "text": [
      "Search: 452\n",
      "Element found at position 2 with attempt 2\n"
     ]
    }
   ],
   "source": [
    "def improvedLinSearch(lst, x):\n",
    "    left = 0\n",
    "    ln = len(lst)\n",
    "    right = ln - 1\n",
    "    \n",
    "    for left in range(ln):\n",
    "        if lst[left]  == x:\n",
    "            position = left\n",
    "            print('Element found at position', position+1, 'with attempt', left+1)\n",
    "            break\n",
    "    \n",
    "        if lst[right]  == x:\n",
    "            position = right\n",
    "            print('Element found at position', position+1, 'with attempt', ln-right)\n",
    "            break\n",
    "        left += 1\n",
    "        right -= 1\n",
    "lst = [991,452,23, 4, 58, 467]\n",
    "result = improvedLinSearch(lst, int(input('Search: ')))"
   ]
  },
  {
   "cell_type": "code",
   "execution_count": 44,
   "id": "5d70cbdd",
   "metadata": {},
   "outputs": [
    {
     "name": "stdout",
     "output_type": "stream",
     "text": [
      "Element found at index 6\n"
     ]
    }
   ],
   "source": [
    "def binSearch(lst, left, right, x):\n",
    "    \n",
    "    while left <= right:\n",
    "        mid = left + (right-left) // 2\n",
    "        \n",
    "        if lst[mid] == x:\n",
    "            return mid\n",
    "        elif lst[mid] < x:\n",
    "            left = mid+1\n",
    "        else:\n",
    "            right = mid-1\n",
    "    return -1\n",
    "\n",
    "lst = [45, 56, 78, 89, 90, 96, 98, 101, 135, 345, 5678]\n",
    "result = binSearch(lst, 0, len(lst)-1,  98)\n",
    "if result == -1:\n",
    "    print('Not found')\n",
    "else:\n",
    "    print('Element found at index', result)"
   ]
  },
  {
   "cell_type": "code",
   "execution_count": 52,
   "id": "d3546724",
   "metadata": {},
   "outputs": [
    {
     "name": "stdout",
     "output_type": "stream",
     "text": [
      "Element found at index 6\n"
     ]
    }
   ],
   "source": [
    "# Binary Search Recursively\n",
    "def binSearchRec(lst, l, r, x):\n",
    "    \n",
    "    if l <= r:\n",
    "        mid = l + (r-l) // 2\n",
    "        \n",
    "        if lst[mid] == x:\n",
    "            return mid\n",
    "        elif lst[mid] < x:\n",
    "            return binSearchRec(lst, mid+1, r, x)\n",
    "        else:\n",
    "            return binSearchRec(lst, l, mid-1, x)\n",
    "    return -1\n",
    "lst = [45, 56, 78, 89, 90, 96, 98, 101, 135, 345, 5678]\n",
    "result = binSearchRec(lst, 0, len(lst)-1,  98)\n",
    "if result == -1:\n",
    "    print('Not found')\n",
    "else:\n",
    "    print('Element found at index', result)\n"
   ]
  },
  {
   "cell_type": "code",
   "execution_count": 56,
   "id": "c1eaa178",
   "metadata": {},
   "outputs": [
    {
     "name": "stdout",
     "output_type": "stream",
     "text": [
      "[4, 9, 11, 34, 45, 56, 67, 87]\n"
     ]
    }
   ],
   "source": [
    "# Selection sort\n",
    "def selectionSort(arr):\n",
    "    for i in range(len(lst)):\n",
    "        min_idx = i\n",
    "        for j in range(i+1, len(lst)):\n",
    "            if lst[min_idx] > lst[j]:\n",
    "                min_idx = j\n",
    "        lst[min_idx], lst[i] = lst[i], lst[min_idx]\n",
    "    return lst\n",
    "lst = [45, 56, 67, 4, 34, 9, 11, 87]\n",
    "res = selectionSort(lst)\n",
    "print(res)"
   ]
  },
  {
   "cell_type": "code",
   "execution_count": 66,
   "id": "81db5310",
   "metadata": {},
   "outputs": [
    {
     "name": "stdout",
     "output_type": "stream",
     "text": [
      "[2, 11, 32, 34, 43, 54, 56, 65, 67, 78]\n"
     ]
    }
   ],
   "source": [
    "# minheap\n",
    "def heapify(arr, n, i):\n",
    "    largest = i\n",
    "    l = 2*i+1\n",
    "    r = 2*i+2\n",
    "    \n",
    "    if l<n and arr[i] < arr[l]:\n",
    "        largest = l\n",
    "    if r<n and arr[largest] < arr[r]:\n",
    "        largest = r\n",
    "    if largest != i:\n",
    "        arr[i], arr[largest] = arr[largest], arr[i]\n",
    "        heapify(arr, n, largest)\n",
    "def heapsort(arr):\n",
    "    n = len(arr)\n",
    "    \n",
    "    for i in range(n, -1, -1):\n",
    "        heapify(arr, n, i)\n",
    "    for i in range(n-1, 0, -1):\n",
    "        arr[i], arr[0] = arr[0], arr[i]\n",
    "        heapify(arr, i, 0)\n",
    "\n",
    "# arr = [ 7, 2, 5, 6, 3, 1, 8, 4]\n",
    "# arr = [30,20,10,50,88,8,89]\n",
    "arr = [34, 56, 78, 65, 43, 32, 11, 2, 54, 67]\n",
    "\n",
    "heapsort(arr)\n",
    "print(arr)"
   ]
  },
  {
   "cell_type": "code",
   "execution_count": null,
   "id": "72cba322",
   "metadata": {},
   "outputs": [],
   "source": []
  },
  {
   "cell_type": "code",
   "execution_count": 68,
   "id": "7f4565e2",
   "metadata": {},
   "outputs": [
    {
     "name": "stdout",
     "output_type": "stream",
     "text": [
      "[2, 11, 32, 34, 43, 54, 56, 65, 67, 78]\n"
     ]
    }
   ],
   "source": [
    "def heapify(arr, n, i):\n",
    "    l = 2*i+1\n",
    "    r = 2*i+2\n",
    "    largest = i\n",
    "    \n",
    "    if l<n and arr[i] < arr[l]:\n",
    "        largest = l\n",
    "    if r<n and arr[largest] < arr[r]:\n",
    "        largest = r\n",
    "    if i != largest:\n",
    "        arr[i], arr[largest] = arr[largest], arr[i]\n",
    "        heapify(arr, n, largest)\n",
    "\n",
    "def heapsort(arr):\n",
    "    n = len(arr)\n",
    "    \n",
    "    #maxheap\n",
    "    for i in range(n, -1, -1):\n",
    "        heapify(arr, n , i)\n",
    "        \n",
    "    #extract element\n",
    "    for i in range(n-1, 0, -1):\n",
    "        arr[i], arr[0] = arr[0], arr[i]\n",
    "        heapify(arr, i, 0)\n",
    "\n",
    "arr = [34, 56, 78, 65, 43, 32, 11, 2, 54, 67]\n",
    "heapsort(arr)\n",
    "print(arr)"
   ]
  },
  {
   "cell_type": "code",
   "execution_count": null,
   "id": "d384aa64",
   "metadata": {},
   "outputs": [],
   "source": [
    "# minheap\n",
    "\n",
    "#Function to implement Heap Sort\n",
    "def heapify(tempList, n, i):\n",
    "    smallest = i\n",
    "    left = 2*i + 1\n",
    "    right = 2*i + 2\n",
    "    if left < n and tempList[left] < tempList[smallest]:\n",
    "        smallest = left\n",
    "\n",
    "    if right < n and tempList[right] < tempList[smallest]:\n",
    "        smallest = right\n",
    "\n",
    "    if smallest != i:\n",
    "        tempList[i], tempList[smallest] = tempList[smallest], tempList[i]\n",
    "        heapify(tempList, n, smallest)\n",
    "\n",
    "\n",
    "def heapSort(tempList):\n",
    "    n = len(tempList)\n",
    "    for i in range(int(n/2)-1, -1, -1):\n",
    "        heapify(tempList, n, i)\n",
    "\n",
    "    for i in range(n-1, 0, -1):\n",
    "        tempList[i], tempList[0] = tempList[0], tempList[i]\n",
    "        heapify(tempList, i, 0)\n",
    "    tempList.reverse()\n",
    "\n",
    "unsortedList = [6, 2, 8, 4, 10]\n",
    "heapSort(unsortedList)\n",
    "print(unsortedList)\n",
    "\n",
    "#Output\n",
    "[2, 4, 6, 8, 10]"
   ]
  },
  {
   "cell_type": "code",
   "execution_count": 5,
   "id": "864958cf",
   "metadata": {},
   "outputs": [
    {
     "data": {
      "text/plain": [
       "'anjani dubey134 greta'"
      ]
     },
     "execution_count": 5,
     "metadata": {},
     "output_type": "execute_result"
    }
   ],
   "source": [
    "import re\n",
    "strg = 'anjani dubey134 @#greta'\n",
    "re.sub('[^A-Za-z0-9]+', ' ', strg)"
   ]
  },
  {
   "cell_type": "code",
   "execution_count": 3,
   "id": "898b6cbd",
   "metadata": {},
   "outputs": [
    {
     "name": "stdout",
     "output_type": "stream",
     "text": [
      "you bought 5 apples at 20\n",
      "you bought 7 oranges at 10\n",
      "you bought 3 bananas at 5\n",
      "you bought 4 melons at 15\n"
     ]
    }
   ],
   "source": [
    "fruits = [\"apples\",\"oranges\",\"bananas\",\"melons\"]\n",
    "prices = [20,10,5,15]\n",
    "quantities = [5,7,3,4]\n",
    "\n",
    "for i, j, k in zip(fruits, prices, quantities):\n",
    "    print(f'you bought {k} {i} at {j}')"
   ]
  },
  {
   "cell_type": "code",
   "execution_count": 3,
   "id": "b9579b0f",
   "metadata": {},
   "outputs": [
    {
     "name": "stdout",
     "output_type": "stream",
     "text": [
      "[(1, 'a'), (2, 'b'), (3, 'c'), (4, 'd'), (5, None)]\n"
     ]
    }
   ],
   "source": [
    "from itertools import zip_longest\n",
    "L1 = [1,2,3,4,5]\n",
    "L2 = ['a','b','c','d']\n",
    "\n",
    "z = zip_longest(L1, L2)\n",
    "print(list(z))"
   ]
  },
  {
   "cell_type": "code",
   "execution_count": 4,
   "id": "5bf20e02",
   "metadata": {},
   "outputs": [
    {
     "name": "stdout",
     "output_type": "stream",
     "text": [
      "[(1, 'a'), (2, 'b'), (3, 'c'), (4, 'd'), (5, 'e'), (None, 'f')]\n"
     ]
    }
   ],
   "source": [
    "from itertools import zip_longest\n",
    "L1 = [1,2,3,4,5]\n",
    "L2 = ['a','b','c','d', 'e', 'f']\n",
    "\n",
    "z = zip_longest(L1, L2)\n",
    "print(list(z))"
   ]
  },
  {
   "cell_type": "code",
   "execution_count": 5,
   "id": "f66443cf",
   "metadata": {},
   "outputs": [
    {
     "name": "stdout",
     "output_type": "stream",
     "text": [
      "Enter the string: aabaabaabaa\n",
      "a2b1a2b1a2b1a2\n"
     ]
    }
   ],
   "source": [
    "import itertools\n",
    "\n",
    "\n",
    "def compress(string):\n",
    "    return ''.join(\n",
    "            letter + str(len(list(group)))\n",
    "            for letter, group in itertools.groupby(string))\n",
    "\n",
    "\n",
    "if __name__ == '__main__':\n",
    "    print(compress(input(\"Enter the string: \")))"
   ]
  },
  {
   "cell_type": "code",
   "execution_count": 6,
   "id": "2d84be79",
   "metadata": {},
   "outputs": [
    {
     "name": "stdout",
     "output_type": "stream",
     "text": [
      "Enter the string:aabaabaabaa\n",
      " a8b3\n"
     ]
    }
   ],
   "source": [
    "from collections import Counter\n",
    "\n",
    "\n",
    "def compress(string):\n",
    "    temp = Counter()\n",
    "    result = \" \"\n",
    "    for x in string:\n",
    "        temp[x] += 1\n",
    "\n",
    "    for key, value in temp.items():\n",
    "        result += str(key) + str(value)\n",
    "    return result\n",
    "\n",
    "\n",
    "if __name__ == '__main__':\n",
    "    s = input(\"Enter the string:\")\n",
    "    print(compress(s))\n",
    "    "
   ]
  },
  {
   "cell_type": "code",
   "execution_count": null,
   "id": "1489bfa1",
   "metadata": {},
   "outputs": [],
   "source": []
  }
 ],
 "metadata": {
  "kernelspec": {
   "display_name": "Python 3",
   "language": "python",
   "name": "python3"
  },
  "language_info": {
   "codemirror_mode": {
    "name": "ipython",
    "version": 3
   },
   "file_extension": ".py",
   "mimetype": "text/x-python",
   "name": "python",
   "nbconvert_exporter": "python",
   "pygments_lexer": "ipython3",
   "version": "3.8.8"
  }
 },
 "nbformat": 4,
 "nbformat_minor": 5
}
