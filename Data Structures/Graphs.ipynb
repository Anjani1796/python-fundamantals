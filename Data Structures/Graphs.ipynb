{
 "cells": [
  {
   "cell_type": "code",
   "execution_count": 29,
   "id": "977af6b2",
   "metadata": {},
   "outputs": [
    {
     "name": "stdout",
     "output_type": "stream",
     "text": [
      "Graph Dict:  {'mumbai': ['paris', 'dubai'], 'paris': ['dubai', 'newyork'], 'dubai': ['newyork'], 'newyork': ['toronto']}\n"
     ]
    }
   ],
   "source": [
    "class Graph:\n",
    "    def __init__(self, edges):\n",
    "        self.edges = edges\n",
    "        self.graph_dict = {}\n",
    "        \n",
    "        for start, end in self.edges:\n",
    "            if start in self.graph_dict:\n",
    "                self.graph_dict[start].append(end)\n",
    "            else:\n",
    "                self.graph_dict[start] = [end]\n",
    "        print('Graph Dict: ', self.graph_dict)\n",
    "                \n",
    "        \n",
    "if __name__ == '__main__':\n",
    "    routes = [\n",
    "        ('mumbai', 'paris'),\n",
    "        ('mumbai', 'dubai'),\n",
    "        ('paris', 'dubai'),\n",
    "        ('paris', 'newyork'),\n",
    "        ('dubai', 'newyork'),\n",
    "        ('newyork', 'toronto'), \n",
    "    ]\n",
    "    \n",
    "    route = Graph(routes)\n",
    "\n",
    "    \n",
    "#     using tuple for storing routes is very expensive and access also, so we will use dictionary in below format:\n",
    "#     d = {\n",
    "#         \"Mumbai\":[\"Paris\", \"Dubai\"],\n",
    "#         \"Mumbai\":[\"Paris\", \"Dubai\"],\n",
    "#         \"Mumbai\":[\"Paris\", \"Dubai\"],\n",
    "#         \"Mumbai\":[\"Paris\", \"Dubai\"],\n",
    "#         \"Mumbai\":[\"Paris\", \"Dubai\"],\n",
    "#         }"
   ]
  },
  {
   "cell_type": "code",
   "execution_count": 25,
   "id": "bd8a7cb2",
   "metadata": {},
   "outputs": [
    {
     "name": "stdout",
     "output_type": "stream",
     "text": [
      "graph dict is: {'Mumbai': ['Paris', 'Dubai'], 'Paris': ['Dubai', 'New York'], 'Dubai': ['New York'], 'New York': ['Toronto']}\n"
     ]
    }
   ],
   "source": [
    "class GRAPHSETS:\n",
    "    def __init__(self, edges):\n",
    "        self.edges = edges\n",
    "        self.graph_dict = {}\n",
    "        for start, end in self.edges:\n",
    "            if start in self.graph_dict:\n",
    "                self.graph_dict[start].append(end)\n",
    "            else:\n",
    "                self.graph_dict[start] = [end]\n",
    "        print('graph dict is:',self.graph_dict)\n",
    "        \n",
    "    \n",
    "                \n",
    "\n",
    "edges = [\n",
    "        (\"Mumbai\", \"Paris\"),\n",
    "        (\"Mumbai\", \"Dubai\"),\n",
    "        (\"Paris\", \"Dubai\"),\n",
    "        (\"Paris\", \"New York\"),\n",
    "        (\"Dubai\", \"New York\"),\n",
    "        (\"New York\", \"Toronto\"),\n",
    "    ]\n",
    "route_graph = GRAPHSETS(edges)\n"
   ]
  },
  {
   "cell_type": "code",
   "execution_count": 27,
   "id": "8102a7ef",
   "metadata": {},
   "outputs": [
    {
     "name": "stdout",
     "output_type": "stream",
     "text": [
      "Graph Dict:  {'mumbai': ['paris', 'dubai'], 'paris': ['dubai', 'newyork'], 'dubai': ['newyork'], 'newyork': ['toronto']}\n"
     ]
    }
   ],
   "source": [
    "class Graph:\n",
    "    def __init__(self, edges):\n",
    "        self.edges = edges\n",
    "        self.dictG = {}\n",
    "        \n",
    "        for start, end in self.edges:\n",
    "            if start in self.dictG:\n",
    "                self.dictG[start].append(end)\n",
    "            else:\n",
    "                self.dictG[start] = [end]\n",
    "        print('Graph Dict: ', self.dictG)\n",
    "\n",
    "if __name__ == '__main__':        \n",
    "    routes = [\n",
    "        ('mumbai', 'paris'),\n",
    "        ('mumbai', 'dubai'),\n",
    "        ('paris', 'dubai'),\n",
    "        ('paris', 'newyork'),\n",
    "        ('dubai', 'newyork'),\n",
    "        ('newyork', 'toronto'),    \n",
    "    ]\n",
    "    obj = Graph(routes)"
   ]
  },
  {
   "cell_type": "code",
   "execution_count": 7,
   "id": "975793cc",
   "metadata": {},
   "outputs": [
    {
     "name": "stdout",
     "output_type": "stream",
     "text": [
      "Graph Dict:  {'mumbai': ['paris', 'dubai'], 'paris': ['dubai', 'new york'], 'dubai': ['new york'], 'new york': ['toronto']}\n",
      "paths between mumbai and new york:  [['mumbai', 'paris', 'dubai', 'new york'], ['mumbai', 'paris', 'new york'], ['mumbai', 'dubai', 'new york']]\n",
      "Shortest path between mumbai and new york:  ['mumbai', 'paris', 'new york']\n"
     ]
    }
   ],
   "source": [
    "class Graph:\n",
    "    def __init__(self, edges):\n",
    "        self.edges = edges\n",
    "        self.graph_dict = {}\n",
    "        \n",
    "        for start, end in self.edges:\n",
    "            if start in self.graph_dict:\n",
    "                self.graph_dict[start].append(end)\n",
    "            else:\n",
    "                self.graph_dict[start] = [end]\n",
    "        print('Graph Dict: ', self.graph_dict)\n",
    "                \n",
    "    def get_paths(self, start, end, path=[]):\n",
    "        path = path + [start]\n",
    "        \n",
    "#         if the start and end is same\n",
    "        if start == end:\n",
    "            return [path]\n",
    "#       in case ther exists a node which is a dead node means no node is accessible from it. so as you see in the dictionary\n",
    "# all the keys are the starting nodes so incase a node is not present as a key then it is a dead node.\n",
    "\n",
    "        if start not in self.graph_dict:\n",
    "            return []\n",
    "        \n",
    "        paths = []\n",
    "        for node in self.graph_dict[start]:\n",
    "            if node not in path:\n",
    "                new_paths = self.get_paths(node, end, path)\n",
    "                for p in new_paths:\n",
    "                    paths.append(p)\n",
    "        return paths\n",
    "    \n",
    "#     getting shortest number of paths based on stops\n",
    "    def get_shortest_paths(self, start, end, path=[]):\n",
    "        path = path + [start]\n",
    "        \n",
    "        if start == end:\n",
    "            return path\n",
    "        \n",
    "        if start not in self.graph_dict:\n",
    "            return None\n",
    "        \n",
    "        shortest_path = None\n",
    "        for node in self.graph_dict[start]:\n",
    "            if node not in path:\n",
    "                sp = self.get_shortest_paths(node, end, path)\n",
    "                if sp:\n",
    "                    if shortest_path is None or len(sp) < len(shortest_path):\n",
    "                        shortest_path = sp\n",
    "        return shortest_path\n",
    "        \n",
    "if __name__ == '__main__':\n",
    "    routes = [\n",
    "        ('mumbai', 'paris'),\n",
    "        ('mumbai', 'dubai'),\n",
    "        ('paris', 'dubai'),\n",
    "        ('paris', 'new york'),\n",
    "        ('dubai', 'new york'),\n",
    "        ('new york', 'toronto'), \n",
    "    ]\n",
    "    \n",
    "    route = Graph(routes)\n",
    "    \n",
    "#     case 1 -  start and end is same\n",
    "#     start = 'mumbai'\n",
    "#     end = 'mumbai'\n",
    "    \n",
    "#     print(f\"paths between {start} and {end}: \", route.get_paths(start, end))\n",
    "#     paths between mumbai and mumbai:  [['mumbai']]\n",
    "\n",
    "#     case2 - if start is a dead node\n",
    "\n",
    "#     start = 'Toronto'\n",
    "#     end = 'mumbai'\n",
    "\n",
    "#     print(f\"paths between {start} and {end}: \", route.get_paths(start, end))\n",
    "#     paths between Toronto and mumbai:  []\n",
    "    \n",
    "\n",
    "#     start = 'mumbai'\n",
    "#     end = 'new york'\n",
    "\n",
    "#     print(f\"paths between {start} and {end}: \", route.get_paths(start, end))\n",
    "\n",
    "#     start = 'toronto'\n",
    "#     end = 'new york'\n",
    "\n",
    "#     print(f\"Shortest path between {start} and {end}: \", route.get_shortest_paths(start, end))\n",
    "#  output -->   paths between toronto and new york:  None\n",
    "\n",
    "\n",
    "#     start = 'new york'\n",
    "#     end = 'new york'\n",
    "\n",
    "#     print(f\"Shortest path between {start} and {end}: \", route.get_shortest_paths(start, end))\n",
    "#     Shortest path between new york and new york:  ['new york']\n",
    "\n",
    "\n",
    "#     start = 'mumbai'\n",
    "#     end = 'new york'\n",
    "\n",
    "#     print(f\"Shortest path between {start} and {end}: \", route.get_shortest_paths(start, end))\n",
    "#  output   Shortest path between mumbai and new york:  ['mumbai', 'paris', 'new york']"
   ]
  },
  {
   "cell_type": "code",
   "execution_count": 8,
   "id": "e89721fe",
   "metadata": {},
   "outputs": [
    {
     "name": "stdout",
     "output_type": "stream",
     "text": [
      "5 3 7 2 4 8 "
     ]
    }
   ],
   "source": [
    "# breadth-first search\n",
    "# here we put the adjacent elements of the visited node to the rear side of queue i.e. right side of list \n",
    "# [...]<<----insert at this end of the queue\n",
    "graph = {\n",
    "    '5':['3','7'],\n",
    "    '3':['2','4'],\n",
    "    '7':['8'],\n",
    "    '2':[],\n",
    "    '4':['8'],\n",
    "    '8':[]\n",
    "}\n",
    "\n",
    "\n",
    "\n",
    "visited, queue = [], []\n",
    "def bfs_traversal(visited, queue, node):\n",
    "    visited.append(node)\n",
    "    queue.append(node)\n",
    "    \n",
    "    while queue:\n",
    "        m = queue.pop(0)\n",
    "        print(m, end=' ')\n",
    "        \n",
    "        for neighbour in graph[m]:\n",
    "            if neighbour not in visited:\n",
    "                visited.append(neighbour)\n",
    "                queue.append(neighbour)      \n",
    "                \n",
    "bfs_traversal(visited, queue, '5')\n",
    "# 5 3 7 2 4 8 "
   ]
  },
  {
   "cell_type": "code",
   "execution_count": 13,
   "id": "ba32e71e",
   "metadata": {},
   "outputs": [
    {
     "name": "stdout",
     "output_type": "stream",
     "text": [
      "Following is the Depth-First Search\n",
      "5 3 2 4 8 7 "
     ]
    }
   ],
   "source": [
    "# dfs - \n",
    "# Using a Python dictionary to act as an adjacency list\n",
    "# here we put the adjacent nodes of visited node on top of the stack i.e. left side of list  --->>> insert at this end[......]\n",
    "graph = {\n",
    "  '5' : ['3','7'],\n",
    "  '3' : ['2', '4'],\n",
    "  '7' : ['8'],\n",
    "  '2' : [],\n",
    "  '4' : ['8'],\n",
    "  '8' : []\n",
    "}\n",
    "\n",
    "visited = set() # Set to keep track of visited nodes of graph.\n",
    "\n",
    "def dfs(visited, graph, node):  #function for dfs \n",
    "    if node not in visited:\n",
    "        print (node, end=' ')\n",
    "        visited.add(node)\n",
    "        for neighbour in graph[node]:\n",
    "            dfs(visited, graph, neighbour)\n",
    "\n",
    "# Driver Code\n",
    "print(\"Following is the Depth-First Search\")\n",
    "dfs(visited, graph, '5')\n",
    "\n",
    "# Following is the Depth-First Search\n",
    "# 5 3 2 4 8 7"
   ]
  },
  {
   "cell_type": "code",
   "execution_count": null,
   "id": "5d6c8b44",
   "metadata": {},
   "outputs": [],
   "source": []
  }
 ],
 "metadata": {
  "kernelspec": {
   "display_name": "Python 3",
   "language": "python",
   "name": "python3"
  },
  "language_info": {
   "codemirror_mode": {
    "name": "ipython",
    "version": 3
   },
   "file_extension": ".py",
   "mimetype": "text/x-python",
   "name": "python",
   "nbconvert_exporter": "python",
   "pygments_lexer": "ipython3",
   "version": "3.8.8"
  }
 },
 "nbformat": 4,
 "nbformat_minor": 5
}
