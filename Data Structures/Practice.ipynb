{
 "cells": [
  {
   "cell_type": "code",
   "execution_count": 2,
   "id": "5b72d702",
   "metadata": {},
   "outputs": [],
   "source": [
    "import random"
   ]
  },
  {
   "cell_type": "code",
   "execution_count": 3,
   "id": "bb627bfb",
   "metadata": {},
   "outputs": [
    {
     "name": "stdout",
     "output_type": "stream",
     "text": [
      "0.12198295526672498\n"
     ]
    }
   ],
   "source": [
    "print(random.random())"
   ]
  },
  {
   "cell_type": "code",
   "execution_count": 4,
   "id": "dfe57cba",
   "metadata": {},
   "outputs": [
    {
     "name": "stdout",
     "output_type": "stream",
     "text": [
      "Count6\n",
      "[47, 83, 72, 61, 66, 69]\n"
     ]
    }
   ],
   "source": [
    "lst = []\n",
    "\n",
    "for i in range(int(input(\"Count\"))):\n",
    "    lst.append(random.randint(46, 85))\n",
    "print(lst)"
   ]
  },
  {
   "cell_type": "code",
   "execution_count": 5,
   "id": "3fc49cfc",
   "metadata": {},
   "outputs": [
    {
     "name": "stdout",
     "output_type": "stream",
     "text": [
      "Number to search: 69\n",
      "Element is present at index:  5\n"
     ]
    }
   ],
   "source": [
    "def lin_search(lst,  ele, ln):\n",
    "    for i in range(ln):\n",
    "        if lst[i] == ele:\n",
    "            return i\n",
    "    return -1\n",
    "\n",
    "ele = int(input(\"Number to search: \"))\n",
    "ln = len(lst)\n",
    "result = lin_search(lst, ele, ln)\n",
    "\n",
    "if result == -1:\n",
    "    print(\"Element not present\")\n",
    "else:\n",
    "    print('Element is present at index: ', result)"
   ]
  },
  {
   "cell_type": "code",
   "execution_count": 6,
   "id": "657257a7",
   "metadata": {},
   "outputs": [
    {
     "name": "stdout",
     "output_type": "stream",
     "text": [
      "search: 4\n",
      "Element present at position  4 with attempt of  2\n"
     ]
    }
   ],
   "source": [
    "def lin_search_improved(lst2, search_ele):\n",
    "#     left = 0\n",
    "    ln = len(lst2)\n",
    "    right = ln- 1\n",
    "    position = -1\n",
    "    \n",
    "    \n",
    "    for left in range(ln):\n",
    "        \n",
    "        if lst2[left] == search_ele:\n",
    "            position = left\n",
    "            print('Element present at position ', position+1, 'with attempt of ', left+1)\n",
    "            break\n",
    "        if lst2[right] == search_ele:\n",
    "            position = right\n",
    "            print('Element present at position ', position+1, 'with attempt of ', ln-right)\n",
    "            break\n",
    "        left += 1\n",
    "        right -= 1\n",
    "\n",
    "lst2 = [1,2,3,4,5]\n",
    "search_ele = int(input(\"search: \"))\n",
    "lin_search_improved(lst2, search_ele)"
   ]
  },
  {
   "cell_type": "code",
   "execution_count": 8,
   "id": "5409ce57",
   "metadata": {},
   "outputs": [
    {
     "name": "stdout",
     "output_type": "stream",
     "text": [
      "Present at index  3\n"
     ]
    }
   ],
   "source": [
    "# Binary Search\n",
    "\n",
    "def BinarySearch(arr, l, r, x):\n",
    "    while l <= r:\n",
    "        mid = l + (r-l) // 2\n",
    "        \n",
    "        if arr[mid] == x:\n",
    "            return mid\n",
    "        elif arr[mid] < x:\n",
    "            l = mid + 1\n",
    "        else:\n",
    "            r = mid - 1\n",
    "    return -1\n",
    "# list must be sorted\n",
    "arr = [10, 20, 30, 40, 50, 60, 70, 80, 90, 100]\n",
    "res = BinarySearch(arr, 0, len(arr)-1, 40)\n",
    "if res == -1:\n",
    "    print(\"Not Present\")\n",
    "else:\n",
    "    print('Present at index ', res)"
   ]
  },
  {
   "cell_type": "code",
   "execution_count": 17,
   "id": "20e2b7c2",
   "metadata": {},
   "outputs": [
    {
     "name": "stdout",
     "output_type": "stream",
     "text": [
      "Not Present\n"
     ]
    }
   ],
   "source": [
    "def binSearch_recursively(arr, l, r, x):\n",
    "    if l <= r:\n",
    "        mid = l + (r-l) // 2\n",
    "        if arr[mid] == x:\n",
    "            return mid\n",
    "        elif arr[mid] < x:\n",
    "            return binSearch_recursively(arr, mid+1, r, x)\n",
    "        else:\n",
    "            return binSearch_recursively(arr, l, mid-1, x)\n",
    "    return -1\n",
    "\n",
    "arr = [10, 20, 30, 40, 50, 60, 70, 80, 90, 100]\n",
    "res = BinarySearch(arr, 0, len(arr)-1, 91)\n",
    "if res == -1:\n",
    "    print(\"Not Present\")\n",
    "else:\n",
    "    print('Present at index ', res)"
   ]
  },
  {
   "cell_type": "code",
   "execution_count": 18,
   "id": "116b314f",
   "metadata": {},
   "outputs": [
    {
     "name": "stdout",
     "output_type": "stream",
     "text": [
      "[11, 12, 22, 25, 64]\n"
     ]
    }
   ],
   "source": [
    "# selection sort\n",
    "\n",
    "arr = [64, 25, 12, 22, 11]\n",
    "for i in range(len(arr)):\n",
    "    \n",
    "    min_idx = i\n",
    "    for j in range(i+1, len(arr)):\n",
    "        if arr[min_idx] > arr[j]:\n",
    "            min_idx = j\n",
    "    \n",
    "    arr[i], arr[min_idx] = arr[min_idx], arr[i]\n",
    "print(arr)"
   ]
  },
  {
   "cell_type": "code",
   "execution_count": 14,
   "id": "1b5a9263",
   "metadata": {},
   "outputs": [
    {
     "name": "stdout",
     "output_type": "stream",
     "text": [
      "3 1\n",
      "3 1\n",
      "3 1\n",
      "3 1\n",
      "[3, 6, 9, 21, 33]\n"
     ]
    }
   ],
   "source": [
    "# bubble sort\n",
    "# Defines a flag variable that will be used to determine if a \n",
    "# swap has occurred or not. This is for optimization purposes. The code does not output anything\n",
    "\n",
    "a = [21, 6, 9, 33, 3]\n",
    "\n",
    "\n",
    "def bubble_sort(a):\n",
    "    n = len(a)\n",
    "    for i in range(n-1):\n",
    "        flag = 0\n",
    "        \n",
    "        for j in range(n-1):\n",
    "            if a[j] > a[j+1]:\n",
    "                a[j], a[j+1] = a[j+1], a[j]\n",
    "#                 temp = a[j]\n",
    "#                 a[j] = a[j+1]\n",
    "#                 a[j+1] = temp\n",
    "                flag = 1\n",
    "        print(j, flag)\n",
    "        if flag==0:\n",
    "            break\n",
    "    return a\n",
    "res = bubble_sort(a)\n",
    "print(res)"
   ]
  },
  {
   "cell_type": "code",
   "execution_count": 2,
   "id": "bd855765",
   "metadata": {},
   "outputs": [
    {
     "name": "stdout",
     "output_type": "stream",
     "text": [
      "[10, 11, 12, 13, 14, 16]\n"
     ]
    }
   ],
   "source": [
    "# insertion sort\n",
    "lst = [12, 16, 11, 10, 14, 13]\n",
    "for i in range(1, len(lst)):\n",
    "    for j in range(i-1, -1, -1):\n",
    "        if (lst[j] > lst[j+1]):\n",
    "            lst[j], lst[j+1] = lst[j+1], lst[j]\n",
    "print(lst)"
   ]
  },
  {
   "cell_type": "code",
   "execution_count": 14,
   "id": "f2767975",
   "metadata": {},
   "outputs": [
    {
     "name": "stdout",
     "output_type": "stream",
     "text": [
      "7\n",
      "6\n",
      "5\n",
      "4\n",
      "3\n",
      "2\n",
      "1\n",
      "0\n",
      "-1\n"
     ]
    }
   ],
   "source": [
    "for i in range(7, -2, -1):\n",
    "    print(i)"
   ]
  },
  {
   "cell_type": "code",
   "execution_count": 11,
   "id": "28f5a4bd",
   "metadata": {},
   "outputs": [
    {
     "name": "stdout",
     "output_type": "stream",
     "text": [
      "[10, 11, 23, 32, 35, 45, 66, 79, 97]\n"
     ]
    }
   ],
   "source": [
    "# merge two sorted lists\n",
    "def merge_sort(arr):\n",
    "    if len(arr) <= 1:\n",
    "        return arr\n",
    "    mid = len(arr) // 2\n",
    "    left = arr[:mid]\n",
    "    right = arr[mid:]\n",
    "    \n",
    "    merge_sort(left)\n",
    "    merge_sort(right)\n",
    "    \n",
    "    mergesort_sorted_lists(left, right, arr)\n",
    "\n",
    "def mergesort_sorted_lists(a, b, arr):\n",
    "    \n",
    "#     optimising lists\n",
    "#     sorted_list = []\n",
    "    \n",
    "    len_a = len(a)\n",
    "    len_b = len(b)\n",
    "    \n",
    "    i = j = k = 0\n",
    "    \n",
    "    while i < len_a and j < len_b:\n",
    "        if a[i]<=b[j]:\n",
    "            arr[k] = a[i]\n",
    "            i += 1\n",
    "        else:\n",
    "            arr[k] = b[j]\n",
    "            j += 1\n",
    "        k += 1\n",
    "            \n",
    "    while i < len_a:\n",
    "        arr[k] = a[i]\n",
    "        i += 1\n",
    "        k += 1\n",
    "        \n",
    "    while j < len_b:\n",
    "        arr[k] = b[j]\n",
    "        k += 1\n",
    "        j += 1\n",
    "#     return sorted_list\n",
    "\n",
    "# a = [23, 34, 35, 56, 67, 78]\n",
    "# b = [20, 36, 39, 44, 49, 50, 60]\n",
    "# res = mergesort_sorted_lists(a, b)\n",
    "\n",
    "arr = [10 ,23, 45, 32, 11, 35, 97, 79, 66]\n",
    "merge_sort(arr)\n",
    "print(arr)"
   ]
  },
  {
   "cell_type": "code",
   "execution_count": 20,
   "id": "a9b5c552",
   "metadata": {},
   "outputs": [
    {
     "name": "stdout",
     "output_type": "stream",
     "text": [
      "[12, 19, 21, 27, 28, 29, 31, 41, 44, 44, 58, 66, 76, 78, 83, 87, 88, 97, 99]\n"
     ]
    }
   ],
   "source": [
    "# quick sort\n",
    "def partition(arr, start, end):\n",
    "    pivot = arr[start]\n",
    "    high = end\n",
    "    low = start+1\n",
    "    \n",
    "    while True:\n",
    "        while low <= high and arr[high] >= pivot:\n",
    "            high -= 1\n",
    "        while low <= high and arr[low] <= pivot:\n",
    "            low += 1\n",
    "        if low<=high:\n",
    "            arr[low], arr[high] = arr[high], arr[low]\n",
    "        else:\n",
    "            break\n",
    "\n",
    "    arr[start], arr[high] = arr[high], arr[start]\n",
    "\n",
    "    return high\n",
    "\n",
    "def quickSort(arr, start, end):\n",
    "    if start >= end:\n",
    "        return\n",
    "    p = partition(arr, start, end)\n",
    "    quickSort(arr, start, p-1)\n",
    "    quickSort(arr, p+1, end)\n",
    "\n",
    "arr = [29,99,27,41,66,28,44,78,87,19,31,76,58,88,83,97,12,21,44]\n",
    "quickSort(arr, 0, len(arr)-1)\n",
    "print(arr)\n",
    "        "
   ]
  },
  {
   "cell_type": "code",
   "execution_count": 6,
   "id": "8dde0f3f",
   "metadata": {},
   "outputs": [
    {
     "name": "stdout",
     "output_type": "stream",
     "text": [
      "[12, 19, 21, 27, 28, 29, 31, 41, 44, 44, 58, 66, 76, 78, 83, 87, 88, 97, 99]\n"
     ]
    }
   ],
   "source": [
    "def selection_sort(arr):\n",
    "    ln = len(arr)\n",
    "    for i in range(ln-1):\n",
    "        min_index = i\n",
    "        for j in range(i+1, ln):\n",
    "            if arr[min_index] > arr[j]:\n",
    "                min_index = j\n",
    "        if i != min_index:\n",
    "            arr[i], arr[min_index] = arr[min_index], arr[i]\n",
    "        \n",
    "if __name__ == '__main__':\n",
    "    arr = [29,99,27,41,66,28,44,78,87,19,31,76,58,88,83,97,12,21,44]\n",
    "    selection_sort(arr)\n",
    "    print(arr)"
   ]
  },
  {
   "cell_type": "code",
   "execution_count": 14,
   "id": "ac780a53",
   "metadata": {
    "scrolled": true
   },
   "outputs": [
    {
     "name": "stdout",
     "output_type": "stream",
     "text": [
      "<__main__.Node object at 0x0000023F3E98E9D0>\n"
     ]
    }
   ],
   "source": [
    "class Node:\n",
    "    def  __init__(self, data):\n",
    "        self.data = data\n",
    "        self.left = None\n",
    "        self.right = None\n",
    "\n",
    "node = Node(10)\n",
    "node.left = Node(34)\n",
    "node.right = Node(89)\n",
    "node.left.left = Node(45)\n",
    "node.left.right = Node(50)\n",
    "node.right.left = Node(65)\n",
    "node.right.right = Node(78)\n",
    "print(root)\n",
    "\n",
    "\n",
    "#          10\n",
    "#        /    \\\n",
    "#      /       \\\n",
    "#    34        89\n",
    "#   /  \\       /  \\\n",
    "#  45  50     58  78\n",
    "\n",
    "# preorder(RootLeftRight) - 10 34 45 50 89 58 78\n",
    "# postorder(LeftRightRoot) - 45 50 34 58 78 89 10\n",
    "# inorder(LeftRootRight) - 45 34 50 10 58 89 78"
   ]
  },
  {
   "cell_type": "code",
   "execution_count": null,
   "id": "adfb206b",
   "metadata": {},
   "outputs": [],
   "source": [
    "#          46\n",
    "#        /    \\\n",
    "#      /       \\\n",
    "#    34        48\n",
    "#   /  \\       /  \\\n",
    "#  90  40     58  78\n",
    "\n",
    "# preorder - 46 34 90 40 48 58 78\n",
    "# postorder - 90 40 34 58 78 48 46\n",
    "# inorder - 90 34 40 46 58 48 78"
   ]
  },
  {
   "cell_type": "code",
   "execution_count": null,
   "id": "9a4b5a18",
   "metadata": {},
   "outputs": [],
   "source": [
    "def preorder(node):\n",
    "    if node:\n",
    "        print(node.data)\n",
    "        preorder(left)\n",
    "        preorder(right)\n",
    "def postorder(node):\n",
    "    if node:\n",
    "        preorder(left)\n",
    "        preorder(right)\n",
    "        print(node.data)\n",
    "def inorder(node):\n",
    "    if node:\n",
    "        preorder(left)\n",
    "        print(node.data)        \n",
    "        preorder(right)"
   ]
  },
  {
   "cell_type": "code",
   "execution_count": 9,
   "id": "12432f2c",
   "metadata": {},
   "outputs": [
    {
     "name": "stdout",
     "output_type": "stream",
     "text": [
      "False\n"
     ]
    }
   ],
   "source": [
    "class Node:\n",
    "    def __init__(self, data):\n",
    "        self.data = data\n",
    "        self.left = None        \n",
    "        self.right = None\n",
    "    \n",
    "    def PrintTree(self):\n",
    "        if self.left:\n",
    "            self.left.PrintTree()\n",
    "        print( self.data),\n",
    "        if self.right:\n",
    "            self.right.PrintTree()\n",
    "            \n",
    "    def exists(self, val):\n",
    "        if val == self.data:\n",
    "            return True\n",
    "\n",
    "        if val < self.data:\n",
    "            if self.left == None:\n",
    "                return False\n",
    "            return self.left.exists(val)\n",
    "\n",
    "        if self.right == None:\n",
    "            return False\n",
    "        return self.right.exists(val)\n",
    "    \n",
    "    def insert(self, data):\n",
    "        if self.data:\n",
    "            if data < self.data:\n",
    "                if self.left is None:\n",
    "                    self.left = Node(data)\n",
    "                else:\n",
    "                    self.left.insert(data)\n",
    "            elif data > self.data:\n",
    "                if self.right is None:\n",
    "                    self.right = Node(data)\n",
    "                else:\n",
    "                    self.right.insert(data)                \n",
    "            else:\n",
    "                self.data = data\n",
    "                \n",
    "    def inorder_traversal(self, root):\n",
    "        res = []\n",
    "        if root:\n",
    "            res = self.inorder_traversal(root.left)\n",
    "            res.append(root.data)\n",
    "            res = res +  self.inorder_traversal(root.right)\n",
    "        return res\n",
    "    def postorder_traversal(self, root):\n",
    "        res = []\n",
    "        if root:\n",
    "            res = self.postorder_traversal(root.left)\n",
    "            res = res +  self.postorder_traversal(root.right)\n",
    "            res.append(root.data)\n",
    "        return res\n",
    "    \n",
    "    def preorder_traversal(self, root):\n",
    "        res = []\n",
    "        if root:\n",
    "            res.append(root.data)\n",
    "            res = res + self.preorder_traversal(root.left)\n",
    "            res = res +  self.preorder_traversal(root.right)\n",
    "        return res\n",
    "\n",
    "\n",
    "root = Node(27)\n",
    "root.insert(14)\n",
    "root.insert(35)\n",
    "root.insert(10)\n",
    "root.insert(19)\n",
    "root.insert(31)\n",
    "root.insert(42)\n",
    "# print(root.inorder_traversal(root))\n",
    "# print(root.postorder_traversal(root))\n",
    "# print(root.preorder_traversal(root))\n",
    "# [10, 14, 19, 27, 31, 35, 42]\n",
    "# [10, 19, 14, 31, 42, 35, 27]\n",
    "# [27, 14, 10, 19, 35, 31, 42]\n",
    "\n",
    "print(root.exists(25))\n",
    "\n"
   ]
  },
  {
   "cell_type": "code",
   "execution_count": null,
   "id": "85ce1417",
   "metadata": {},
   "outputs": [],
   "source": []
  }
 ],
 "metadata": {
  "kernelspec": {
   "display_name": "Python 3",
   "language": "python",
   "name": "python3"
  },
  "language_info": {
   "codemirror_mode": {
    "name": "ipython",
    "version": 3
   },
   "file_extension": ".py",
   "mimetype": "text/x-python",
   "name": "python",
   "nbconvert_exporter": "python",
   "pygments_lexer": "ipython3",
   "version": "3.8.8"
  }
 },
 "nbformat": 4,
 "nbformat_minor": 5
}
