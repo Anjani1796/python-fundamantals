{
 "cells": [
  {
   "cell_type": "code",
   "execution_count": null,
   "id": "5c9f9a66",
   "metadata": {},
   "outputs": [],
   "source": [
    "# Dijkstra algorithm is pronounced as \"Dike-struss\" algorithm - here we intend to find the shortest path from one vertex to \n",
    "# other hence it is a minimization problem which can be solved by using greedy approach"
   ]
  }
 ],
 "metadata": {
  "kernelspec": {
   "display_name": "Python 3",
   "language": "python",
   "name": "python3"
  },
  "language_info": {
   "codemirror_mode": {
    "name": "ipython",
    "version": 3
   },
   "file_extension": ".py",
   "mimetype": "text/x-python",
   "name": "python",
   "nbconvert_exporter": "python",
   "pygments_lexer": "ipython3",
   "version": "3.8.8"
  }
 },
 "nbformat": 4,
 "nbformat_minor": 5
}
