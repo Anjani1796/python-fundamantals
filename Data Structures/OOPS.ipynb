{
 "cells": [
  {
   "cell_type": "code",
   "execution_count": null,
   "id": "f60883fa",
   "metadata": {},
   "outputs": [],
   "source": [
    "# https://www.pythonprogramming.in/object-oriented-programming/\n",
    "\n",
    "# https://www.pythonprogramming.in/object-oriented-programming/\n",
    "\n",
    "# https://www.c-sharpcorner.com/article/30-days-of-python-day-9-oop-pillars/\n",
    "\n",
    "# https://www.c-sharpcorner.com/article/30-days-of-python-day-30-free-python-resources/\n",
    "\n",
    "# https://www.c-sharpcorner.com/article/30-days-of-python-day-15-generators/"
   ]
  },
  {
   "cell_type": "code",
   "execution_count": 3,
   "id": "379b9f6c",
   "metadata": {},
   "outputs": [
    {
     "name": "stdout",
     "output_type": "stream",
     "text": [
      "<__main__.Employee object at 0x0000014ABEA9C130>\n",
      "John Doe\n"
     ]
    }
   ],
   "source": [
    "class Employee:\n",
    "    pass\n",
    " \n",
    " \n",
    "e1 = Employee()\n",
    "print(e1)\n",
    " \n",
    "e1.name = \"John Doe\"\n",
    "print(e1.name)\n",
    "# print(Employee.name)"
   ]
  },
  {
   "cell_type": "code",
   "execution_count": null,
   "id": "b1128c3c",
   "metadata": {},
   "outputs": [],
   "source": [
    "# type(name, bases, attributes) \n",
    "\n",
    "# Parameters:\n",
    "# name: The user defined name of the class\n",
    "# bases: A list of base classes, and its type is tuple\n",
    "# attributes: the data members and methods contained in the class\n",
    "\n"
   ]
  },
  {
   "cell_type": "code",
   "execution_count": 4,
   "id": "220a7286",
   "metadata": {},
   "outputs": [
    {
     "name": "stdout",
     "output_type": "stream",
     "text": [
      "constructor argument\n",
      "Geeks 4 geeks !\n",
      "1706256\n",
      "Geeks for Geeks\n",
      "Class Dynamically Created !\n"
     ]
    }
   ],
   "source": [
    "# program to create class dynamically\n",
    "\n",
    "# constructor\n",
    "def constructor(self, arg):\n",
    "\tself.constructor_arg = arg\n",
    "\n",
    "# method\n",
    "def displayMethod(self, arg):\n",
    "\tprint(arg)\n",
    "\n",
    "# class method\n",
    "@classmethod\n",
    "def classMethod(cls, arg):\n",
    "\tprint(arg)\n",
    "\n",
    "# creating class dynamically\n",
    "Geeks = type(\"Geeks\", (object, ), {\n",
    "\t# constructor\n",
    "\t\"__init__\": constructor,\n",
    "\t\n",
    "\t# data members\n",
    "\t\"string_attribute\": \"Geeks 4 geeks !\",\n",
    "\t\"int_attribute\": 1706256,\n",
    "\t\n",
    "\t# member functions\n",
    "\t\"func_arg\": displayMethod,\n",
    "\t\"class_func\": classMethod\n",
    "})\n",
    "\n",
    "# creating objects\n",
    "obj = Geeks(\"constructor argument\")\n",
    "print(obj.constructor_arg)\n",
    "print(obj.string_attribute)\n",
    "print(obj.int_attribute)\n",
    "obj.func_arg(\"Geeks for Geeks\")\n",
    "Geeks.class_func(\"Class Dynamically Created !\")"
   ]
  },
  {
   "cell_type": "code",
   "execution_count": 5,
   "id": "9f039a2b",
   "metadata": {},
   "outputs": [
    {
     "name": "stdout",
     "output_type": "stream",
     "text": [
      "Marvin\n",
      "Hi, I am Marvin\n",
      "Marvin\n",
      "Hi, I am Marvin\n",
      "{'name': 'Marvin'}\n",
      "{'name': 'Marvin'}\n"
     ]
    }
   ],
   "source": [
    "class Robot:\n",
    "\n",
    "    counter = 0\n",
    "\n",
    "    def __init__(self, name):\n",
    "        self.name = name\n",
    "\n",
    "    def sayHello(self):\n",
    "        return \"Hi, I am \" + self.name\n",
    "\n",
    "\n",
    "def Rob_init(self, name):\n",
    "    self.name = name\n",
    "\n",
    "Robot2 = type(\"Robot2\", \n",
    "              (), \n",
    "              {\"counter\":0, \n",
    "               \"__init__\": Rob_init,\n",
    "               \"sayHello\": lambda self: \"Hi, I am \" + self.name})\n",
    "\n",
    "x = Robot2(\"Marvin\")\n",
    "print(x.name)\n",
    "print(x.sayHello())\n",
    "\n",
    "y = Robot(\"Marvin\")\n",
    "print(y.name)\n",
    "print(y.sayHello())\n",
    "\n",
    "print(x.__dict__)\n",
    "print(y.__dict__)"
   ]
  },
  {
   "cell_type": "code",
   "execution_count": 8,
   "id": "6a8dddf0",
   "metadata": {},
   "outputs": [
    {
     "name": "stdout",
     "output_type": "stream",
     "text": [
      "10000\n",
      "John Doe\n",
      "1000.0\n"
     ]
    }
   ],
   "source": [
    "class Employee:\n",
    "    salary = 10000\n",
    "    name = \"John Doe\"\n",
    " \n",
    "    def tax(self):\n",
    "        print(self.salary * 0.10)\n",
    " \n",
    " \n",
    "emp1 = Employee()\n",
    "print(emp1.salary)\n",
    "print(emp1.name)\n",
    "emp1.tax()"
   ]
  },
  {
   "cell_type": "code",
   "execution_count": 9,
   "id": "af6412f7",
   "metadata": {},
   "outputs": [
    {
     "name": "stdout",
     "output_type": "stream",
     "text": [
      "12000\n",
      "25\n"
     ]
    }
   ],
   "source": [
    "# The setattr used to sets the named attribute on the given object with a specified value.\n",
    "\n",
    "class Employee:\n",
    "    pass\n",
    " \n",
    " \n",
    "emp1 = Employee()\n",
    "setattr(emp1, 'Salary', 12000)\n",
    " \n",
    "emp2 = Employee()\n",
    "setattr(emp2, 'Age', 25)\n",
    " \n",
    "print(emp1.Salary)\n",
    "print(emp2.Age)"
   ]
  },
  {
   "cell_type": "code",
   "execution_count": 12,
   "id": "0d16035e",
   "metadata": {},
   "outputs": [
    {
     "name": "stdout",
     "output_type": "stream",
     "text": [
      "10000 : John Doe\n"
     ]
    }
   ],
   "source": [
    "# self is an object reference to the object itself, it does not have to be named self , but it has to be the first parameter\n",
    "# of any function in the class.\n",
    "\n",
    "# self is not necessary word and also doesnot have to be same in all the methods throughtout but first argument will be \n",
    "# treated as self\n",
    "\n",
    "class Employee:\n",
    "#     here person is used as self\n",
    "    def __init__(person, salary, name):\n",
    "        person.salary = salary\n",
    "        person.name = name\n",
    " \n",
    "#     here emp is used as self\n",
    "    def print_details(emp):\n",
    "        print(str(emp.salary) + ' : ' + emp.name)\n",
    " \n",
    " \n",
    "emp1 = Employee(10000, 'John Doe')\n",
    "emp1.print_details()"
   ]
  },
  {
   "cell_type": "code",
   "execution_count": 13,
   "id": "c7aed0dc",
   "metadata": {},
   "outputs": [],
   "source": [
    "class Employee:\n",
    "    def __init__(self, salary, name):\n",
    "        self.salary = salary\n",
    "        self.name = name\n",
    " \n",
    " \n",
    "emp1 = Employee(10000, \"John Doe\")\n",
    " \n",
    "del emp1.salary     # Delete object property\n",
    "del emp1            # Delete object"
   ]
  },
  {
   "cell_type": "code",
   "execution_count": 15,
   "id": "05f01514",
   "metadata": {},
   "outputs": [
    {
     "name": "stdout",
     "output_type": "stream",
     "text": [
      "5.0\n",
      "7.0\n",
      "14.0\n",
      "7.0\n",
      "5.0\n"
     ]
    }
   ],
   "source": [
    "class State(object):\n",
    "    def __init__(self):\n",
    "        self.field = 5.0\n",
    " \n",
    "    def add(self, x):\n",
    "        self.field += x\n",
    " \n",
    "    def mul(self, x):\n",
    "        self.field *= x\n",
    " \n",
    "    def div(self, x):\n",
    "        self.field /= x\n",
    " \n",
    "    def sub(self, x):\n",
    "        self.field -= x\n",
    " \n",
    " \n",
    "s = State()\n",
    "print(s.field)\n",
    " \n",
    "s.add(2)         # Self is implicitly passed.\n",
    "print(s.field)\n",
    " \n",
    "s.mul(2)         # Self is implicitly passed.\n",
    "print(s.field)\n",
    " \n",
    "s.div(2)         # Self is implicitly passed.\n",
    "print(s.field)\n",
    " \n",
    "s.sub(2)         # Self is implicitly passed.\n",
    "print(s.field)"
   ]
  },
  {
   "cell_type": "code",
   "execution_count": 9,
   "id": "5509808e",
   "metadata": {},
   "outputs": [
    {
     "name": "stdout",
     "output_type": "stream",
     "text": [
      "5\n",
      "7\n",
      "sapling\n",
      "5\n",
      "No\n"
     ]
    }
   ],
   "source": [
    "class Tree:\n",
    "    roots = 5  #this is class attribute which is accessible using self.roots and cannot be accessed by direct call like roots \n",
    "#     inside the method\n",
    "    \n",
    "    def __init__(self, branch, type1):\n",
    "#         non-parameterized constructed variable\n",
    "        self.dead = 'No'\n",
    "        \n",
    "        self.branch = branch\n",
    "        self.type1 = type1\n",
    "    def print(self):\n",
    "        print(self.roots)\n",
    "t = Tree(7, 'sapling')\n",
    "t.print()  #5\n",
    "print(t.branch)   #7\n",
    "print(t.type1)    #sapling\n",
    "print(t.roots)    #5\n",
    "print(t.dead)     #No"
   ]
  },
  {
   "cell_type": "code",
   "execution_count": 12,
   "id": "9978947d",
   "metadata": {},
   "outputs": [
    {
     "name": "stdout",
     "output_type": "stream",
     "text": [
      "5\n"
     ]
    },
    {
     "ename": "AttributeError",
     "evalue": "'Tree' object has no attribute 'color'",
     "output_type": "error",
     "traceback": [
      "\u001b[1;31m---------------------------------------------------------------------------\u001b[0m",
      "\u001b[1;31mAttributeError\u001b[0m                            Traceback (most recent call last)",
      "\u001b[1;32m<ipython-input-12-b59473a7c27b>\u001b[0m in \u001b[0;36m<module>\u001b[1;34m\u001b[0m\n\u001b[0;32m     13\u001b[0m \u001b[1;33m\u001b[0m\u001b[0m\n\u001b[0;32m     14\u001b[0m \u001b[0mt\u001b[0m \u001b[1;33m=\u001b[0m \u001b[0mTree\u001b[0m\u001b[1;33m(\u001b[0m\u001b[1;36m7\u001b[0m\u001b[1;33m,\u001b[0m \u001b[1;34m'sapling'\u001b[0m\u001b[1;33m)\u001b[0m\u001b[1;33m\u001b[0m\u001b[1;33m\u001b[0m\u001b[0m\n\u001b[1;32m---> 15\u001b[1;33m \u001b[0mt\u001b[0m\u001b[1;33m.\u001b[0m\u001b[0mprint\u001b[0m\u001b[1;33m(\u001b[0m\u001b[1;33m)\u001b[0m\u001b[1;33m\u001b[0m\u001b[1;33m\u001b[0m\u001b[0m\n\u001b[0m\u001b[0;32m     16\u001b[0m \u001b[0mt\u001b[0m\u001b[1;33m.\u001b[0m\u001b[0mcolor\u001b[0m \u001b[1;33m=\u001b[0m \u001b[1;34m'yellow'\u001b[0m\u001b[1;33m\u001b[0m\u001b[1;33m\u001b[0m\u001b[0m\n\u001b[0;32m     17\u001b[0m \u001b[0mprint\u001b[0m\u001b[1;33m(\u001b[0m\u001b[0mt\u001b[0m\u001b[1;33m.\u001b[0m\u001b[0mcolor\u001b[0m\u001b[1;33m)\u001b[0m\u001b[1;33m\u001b[0m\u001b[1;33m\u001b[0m\u001b[0m\n",
      "\u001b[1;32m<ipython-input-12-b59473a7c27b>\u001b[0m in \u001b[0;36mprint\u001b[1;34m(self)\u001b[0m\n\u001b[0;32m     10\u001b[0m     \u001b[1;32mdef\u001b[0m \u001b[0mprint\u001b[0m\u001b[1;33m(\u001b[0m\u001b[0mself\u001b[0m\u001b[1;33m)\u001b[0m\u001b[1;33m:\u001b[0m\u001b[1;33m\u001b[0m\u001b[1;33m\u001b[0m\u001b[0m\n\u001b[0;32m     11\u001b[0m         \u001b[0mprint\u001b[0m\u001b[1;33m(\u001b[0m\u001b[0mself\u001b[0m\u001b[1;33m.\u001b[0m\u001b[0mroots\u001b[0m\u001b[1;33m)\u001b[0m\u001b[1;33m\u001b[0m\u001b[1;33m\u001b[0m\u001b[0m\n\u001b[1;32m---> 12\u001b[1;33m         \u001b[0mprint\u001b[0m\u001b[1;33m(\u001b[0m\u001b[0mself\u001b[0m\u001b[1;33m.\u001b[0m\u001b[0mcolor\u001b[0m\u001b[1;33m)\u001b[0m\u001b[1;33m\u001b[0m\u001b[1;33m\u001b[0m\u001b[0m\n\u001b[0m\u001b[0;32m     13\u001b[0m \u001b[1;33m\u001b[0m\u001b[0m\n\u001b[0;32m     14\u001b[0m \u001b[0mt\u001b[0m \u001b[1;33m=\u001b[0m \u001b[0mTree\u001b[0m\u001b[1;33m(\u001b[0m\u001b[1;36m7\u001b[0m\u001b[1;33m,\u001b[0m \u001b[1;34m'sapling'\u001b[0m\u001b[1;33m)\u001b[0m\u001b[1;33m\u001b[0m\u001b[1;33m\u001b[0m\u001b[0m\n",
      "\u001b[1;31mAttributeError\u001b[0m: 'Tree' object has no attribute 'color'"
     ]
    }
   ],
   "source": [
    "class Tree:\n",
    "    roots = 5 \n",
    "    \n",
    "    def __init__(self, branch, type1):\n",
    "        self.dead = 'No'\n",
    "        \n",
    "        self.branch = branch\n",
    "        self.type1 = type1\n",
    "        \n",
    "    def print(self):\n",
    "        print(self.roots)\n",
    "        print(self.color)\n",
    "        \n",
    "t = Tree(7, 'sapling')\n",
    "t.print()  \n",
    "t.color = 'yellow' #this is instance t's attribute and cannot be accessed inside class\n",
    "\n",
    "print(t.color)"
   ]
  },
  {
   "cell_type": "code",
   "execution_count": 13,
   "id": "cc03683a",
   "metadata": {},
   "outputs": [
    {
     "name": "stdout",
     "output_type": "stream",
     "text": [
      "Dommy\n",
      "True\n",
      "152\n"
     ]
    }
   ],
   "source": [
    "# Accessing attributes (In-built class function)\n",
    "# Getattr(obj, name, [,default]) – it allows us to access attribute of an object.\n",
    "# Setattr(obj, name)                 – this method used to set an attribute. If it created when it does not exist.\n",
    "# Hasattr(obj, name)                – to check the attribute Exist or Not\n",
    "# Deleteattr(obj, name)            – Delete an attribute\n",
    "\n",
    "\n",
    "class dog:   \n",
    "    name='Dommy'  \n",
    "    age='4'  \n",
    "    def show(self):   \n",
    "        print (self.name)  \n",
    "        print (self.age)   \n",
    "d1 = dog()   \n",
    "# Use getattr instead of d1.name   \n",
    "print (getattr(d1,'name'))  \n",
    "    \n",
    "# returns true if object has attribute   \n",
    "print (hasattr(d1,'name'))   \n",
    "    \n",
    "# sets an  attribute    \n",
    "setattr(d1,'height',152)   \n",
    "    \n",
    "# returns the value of attribute name height   \n",
    "print (getattr(d1,'height'))  \n",
    "    \n",
    "# delete the attribute   \n",
    "delattr(dog,'age')   "
   ]
  },
  {
   "cell_type": "code",
   "execution_count": 14,
   "id": "33ad0329",
   "metadata": {},
   "outputs": [
    {
     "data": {
      "text/plain": [
       "dict"
      ]
     },
     "execution_count": 14,
     "metadata": {},
     "output_type": "execute_result"
    }
   ],
   "source": [
    "type({})"
   ]
  },
  {
   "cell_type": "code",
   "execution_count": 15,
   "id": "122b2855",
   "metadata": {},
   "outputs": [
    {
     "ename": "SyntaxError",
     "evalue": "invalid syntax (<ipython-input-15-84ff336a0347>, line 1)",
     "output_type": "error",
     "traceback": [
      "\u001b[1;36m  File \u001b[1;32m\"<ipython-input-15-84ff336a0347>\"\u001b[1;36m, line \u001b[1;32m1\u001b[0m\n\u001b[1;33m    type({,})\u001b[0m\n\u001b[1;37m          ^\u001b[0m\n\u001b[1;31mSyntaxError\u001b[0m\u001b[1;31m:\u001b[0m invalid syntax\n"
     ]
    }
   ],
   "source": [
    "type({,})"
   ]
  },
  {
   "cell_type": "code",
   "execution_count": 17,
   "id": "e2228617",
   "metadata": {},
   "outputs": [
    {
     "data": {
      "text/plain": [
       "set"
      ]
     },
     "execution_count": 17,
     "metadata": {},
     "output_type": "execute_result"
    }
   ],
   "source": [
    "eset = set()\n",
    "type(eset)"
   ]
  },
  {
   "cell_type": "code",
   "execution_count": 22,
   "id": "d6a868c1",
   "metadata": {},
   "outputs": [
    {
     "name": "stdout",
     "output_type": "stream",
     "text": [
      "[0, 1, 1, 2, 3, 5, 8, 13, 21, 34, 55, 89, 144, 233, 377, 610, 987, 1597, 2584, 4181]\n"
     ]
    }
   ],
   "source": [
    "def fibonacci(num):  \n",
    "    sequence = []  \n",
    "    a,b = 0,1  \n",
    "    for item in range(num):  \n",
    "        sequence.append(a)  \n",
    "        a, b = b, a+b\n",
    "    return sequence  \n",
    "  \n",
    "result = fibonacci(20)  \n",
    "print(result)"
   ]
  },
  {
   "cell_type": "code",
   "execution_count": null,
   "id": "7cc82efe",
   "metadata": {},
   "outputs": [],
   "source": []
  }
 ],
 "metadata": {
  "kernelspec": {
   "display_name": "Python 3",
   "language": "python",
   "name": "python3"
  },
  "language_info": {
   "codemirror_mode": {
    "name": "ipython",
    "version": 3
   },
   "file_extension": ".py",
   "mimetype": "text/x-python",
   "name": "python",
   "nbconvert_exporter": "python",
   "pygments_lexer": "ipython3",
   "version": "3.8.8"
  }
 },
 "nbformat": 4,
 "nbformat_minor": 5
}
