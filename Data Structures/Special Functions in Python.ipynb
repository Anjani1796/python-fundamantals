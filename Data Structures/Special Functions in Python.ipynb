{
 "cells": [
  {
   "cell_type": "code",
   "execution_count": 2,
   "id": "bf4e8338",
   "metadata": {},
   "outputs": [
    {
     "name": "stdout",
     "output_type": "stream",
     "text": [
      "[True, False, False, True, False]\n"
     ]
    }
   ],
   "source": [
    "# MAP Function\n",
    "def start_with_A(s):\n",
    "    return s[0] == 'A'\n",
    "\n",
    "# Syntax \n",
    "# map(function, iterables)\n",
    "\n",
    "list1 = ['Apple', 'Banana', 'Pear', 'Apricot', 'Orange']\n",
    "map_object = map(start_with_A, list1)\n",
    "print(list(map_object))"
   ]
  },
  {
   "cell_type": "code",
   "execution_count": 16,
   "id": "96667779",
   "metadata": {},
   "outputs": [
    {
     "name": "stdout",
     "output_type": "stream",
     "text": [
      "['Apple', 'Apricot']\n"
     ]
    }
   ],
   "source": [
    "def start_with_A(s):\n",
    "    return s[0] == 'A'\n",
    "\n",
    "# Syntax \n",
    "# map(function, iterables)\n",
    "\n",
    "list1 = ['Apple', 'Banana', 'Pear', 'Apricot', 'Orange']\n",
    "map_object = filter(start_with_A, list1)\n",
    "print(list(map_object))"
   ]
  },
  {
   "cell_type": "code",
   "execution_count": 5,
   "id": "47ea9bad",
   "metadata": {},
   "outputs": [
    {
     "name": "stdout",
     "output_type": "stream",
     "text": [
      "{False, True}\n"
     ]
    }
   ],
   "source": [
    "list1 = ['Apple', 'Banana', 'Pear', 'Apricot', 'Orange']\n",
    "map_object = map(lambda s: s[0] == 'A', list1)\n",
    "# print(list(map_object))\n",
    "# print(tuple(map_object))\n",
    "# print(set(map_object)) "
   ]
  },
  {
   "cell_type": "code",
   "execution_count": 13,
   "id": "002fa6fa",
   "metadata": {},
   "outputs": [
    {
     "name": "stdout",
     "output_type": "stream",
     "text": [
      "[12, 25, 36, 63, 80, 45]\n"
     ]
    }
   ],
   "source": [
    "def square(val1, val2):\n",
    "    return val1*val2\n",
    "lst = [3, 5, 6, 7, 8, 9]\n",
    "lst2 = [4, 5, 6, 9, 10, 5]\n",
    "map_object = map(square, lst, lst2)\n",
    "print(list(map_object))\n",
    "# [12, 25, 36, 63, 80, 45]\n"
   ]
  },
  {
   "cell_type": "code",
   "execution_count": 14,
   "id": "ea55c769",
   "metadata": {
    "scrolled": true
   },
   "outputs": [
    {
     "name": "stdout",
     "output_type": "stream",
     "text": [
      "[True, False, False, True, False]\n"
     ]
    }
   ],
   "source": [
    "print(list(map(lambda s: s[0] == 'A', ['Apple', 'Banana', 'Pear', 'Apricot', 'Orange'])))\n"
   ]
  },
  {
   "cell_type": "code",
   "execution_count": 17,
   "id": "88d1704a",
   "metadata": {},
   "outputs": [
    {
     "name": "stdout",
     "output_type": "stream",
     "text": [
      "['Apple', 'Apricot']\n"
     ]
    }
   ],
   "source": [
    "# Filter function\n",
    "\n",
    "def start_with_A(s):\n",
    "    return s[0] == 'A'\n",
    "\n",
    "# Syntax \n",
    "# map(function, iterables)\n",
    "\n",
    "list1 = ['Apple', 'Banana', 'Pear', 'Apricot', 'Orange']\n",
    "map_object = filter(start_with_A, list1)\n",
    "print(list(map_object))\n",
    "# ['Apple', 'Apricot']"
   ]
  },
  {
   "cell_type": "code",
   "execution_count": 18,
   "id": "db546226",
   "metadata": {},
   "outputs": [
    {
     "name": "stdout",
     "output_type": "stream",
     "text": [
      "['Apple', 'Apricot']\n"
     ]
    }
   ],
   "source": [
    "list1 = ['Apple', 'Banana', 'Pear', 'Apricot', 'Orange']\n",
    "map_object = filter(lambda s: s[0] == 'A', list1)\n",
    "print(list(map_object))\n",
    "# ['Apple', 'Apricot']\n",
    "# print(tuple(map_object))\n",
    "# ('Apple', 'Apricot')\n",
    "# print(set(map_object)) \n",
    "# {False, True}"
   ]
  },
  {
   "cell_type": "code",
   "execution_count": 21,
   "id": "3ebc0df3",
   "metadata": {},
   "outputs": [
    {
     "name": "stdout",
     "output_type": "stream",
     "text": [
      "3299527512739154060075891812\n"
     ]
    }
   ],
   "source": [
    "# reduce\n",
    "# functools.reduce(function, iterable[, initializer])\n",
    "\n",
    "\n",
    "from functools import reduce\n",
    "\n",
    "def sumOfSquares(x, y):\n",
    "    return x*x + y*y\n",
    "# 36+16\n",
    "lst = [4, 6, 7, 3, 10, 6]\n",
    "reduce_object = reduce(sumOfSquares, lst)\n",
    "print(reduce_object)"
   ]
  },
  {
   "cell_type": "code",
   "execution_count": null,
   "id": "48c93328",
   "metadata": {},
   "outputs": [],
   "source": [
    "# internal implementation of reduce\n",
    "def reduce(function, iterable, initializer=None):\n",
    "    it = iter(iterable)\n",
    "    if initializer is None:\n",
    "        value = next(it)\n",
    "    else:\n",
    "        value = initializer\n",
    "    for element in it:\n",
    "        value = function(value, element)\n",
    "    return value"
   ]
  },
  {
   "cell_type": "code",
   "execution_count": null,
   "id": "9eb85166",
   "metadata": {},
   "outputs": [],
   "source": [
    ">>> from functools import reduce\n",
    "\n",
    ">>> numbers = [0, 1, 2, 3, 4]\n",
    "\n",
    ">>> reduce(my_add, numbers, 100)\n",
    "100 + 0 = 100\n",
    "100 + 1 = 101\n",
    "101 + 2 = 103\n",
    "103 + 3 = 106\n",
    "106 + 4 = 110\n",
    "110"
   ]
  },
  {
   "cell_type": "code",
   "execution_count": null,
   "id": "8521cb0b",
   "metadata": {},
   "outputs": [],
   "source": []
  }
 ],
 "metadata": {
  "kernelspec": {
   "display_name": "Python 3",
   "language": "python",
   "name": "python3"
  },
  "language_info": {
   "codemirror_mode": {
    "name": "ipython",
    "version": 3
   },
   "file_extension": ".py",
   "mimetype": "text/x-python",
   "name": "python",
   "nbconvert_exporter": "python",
   "pygments_lexer": "ipython3",
   "version": "3.8.8"
  }
 },
 "nbformat": 4,
 "nbformat_minor": 5
}
