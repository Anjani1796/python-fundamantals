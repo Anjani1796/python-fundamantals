{
 "cells": [
  {
   "cell_type": "code",
   "execution_count": 18,
   "id": "7d4bd225",
   "metadata": {},
   "outputs": [],
   "source": [
    "# https://pythonwife.com/sorting-algorithms-in-python/\n",
    "\n",
    "# later: auxiliary variables"
   ]
  },
  {
   "cell_type": "code",
   "execution_count": 19,
   "id": "b340f63e",
   "metadata": {},
   "outputs": [
    {
     "data": {
      "text/plain": [
       "[0, 2, 4, 6, 7, 8, 10, 11, 34, 45]"
      ]
     },
     "execution_count": 19,
     "metadata": {},
     "output_type": "execute_result"
    }
   ],
   "source": [
    "# bubble sort\n",
    "def bubbleSort(lst):\n",
    "    for i in range(len(lst)-1):  #9\n",
    "        for j in range(len(lst)-i-1):  #9, 8,  7, 6, ... 1\n",
    "            if lst[j] > lst[j+1]:\n",
    "                lst[j], lst[j+1] = lst[j+1], lst[j]\n",
    "    return lst\n",
    "\n",
    "lst = [6, 2, 8, 4, 10, 34, 45, 11, 7, 0]\n",
    "bubbleSort(lst)\n",
    "\n",
    "# time - O(n^2)"
   ]
  },
  {
   "cell_type": "code",
   "execution_count": 20,
   "id": "ce9c542d",
   "metadata": {},
   "outputs": [
    {
     "data": {
      "text/plain": [
       "[0, 2, 4, 6, 7, 8, 10, 11, 34, 45]"
      ]
     },
     "execution_count": 20,
     "metadata": {},
     "output_type": "execute_result"
    }
   ],
   "source": [
    "# selection sort\n",
    "def selectionSort(lst):\n",
    "    for i in range(len(lst)):\n",
    "        min_index = i\n",
    "        for j in range(i+1, len(lst)):\n",
    "            if lst[min_index] > lst[j]:\n",
    "                min_index = j\n",
    "        lst[min_index], lst[i] = lst[i], lst[min_index]\n",
    "                \n",
    "    \n",
    "    return lst\n",
    "\n",
    "lst = [6, 2, 8, 4, 10, 34, 45, 11, 7, 0]\n",
    "selectionSort(lst)"
   ]
  },
  {
   "cell_type": "code",
   "execution_count": 21,
   "id": "99c8a8e6",
   "metadata": {},
   "outputs": [
    {
     "data": {
      "text/plain": [
       "[0, 2, 4, 6, 7, 8, 10, 11, 34, 45]"
      ]
     },
     "execution_count": 21,
     "metadata": {},
     "output_type": "execute_result"
    }
   ],
   "source": [
    "# insertion sort\n",
    "def insertionSort(lst):\n",
    "    for i in range(1, len(lst)):\n",
    "        key = lst[i]\n",
    "        j = i-1\n",
    "        while j >= 0 and key < lst[j]:\n",
    "            lst[j+1] = lst[j]\n",
    "            j -= 1\n",
    "        lst[j+1] = key\n",
    "    return lst\n",
    "\n",
    "lst = [6, 2, 8, 4, 10, 34, 45, 11, 7, 0]\n",
    "insertionSort(lst)"
   ]
  },
  {
   "cell_type": "code",
   "execution_count": null,
   "id": "b7b7add7",
   "metadata": {},
   "outputs": [],
   "source": []
  },
  {
   "cell_type": "code",
   "execution_count": 30,
   "id": "728a4ff0",
   "metadata": {},
   "outputs": [
    {
     "data": {
      "text/plain": [
       "[2, 4, 6, 8, 10]"
      ]
     },
     "execution_count": 30,
     "metadata": {},
     "output_type": "execute_result"
    }
   ],
   "source": [
    "# bubble sort\n",
    "def bubbleSort(lst):\n",
    "    for i in range(len(lst)-1):\n",
    "        for j in range(len(lst)-i-1):\n",
    "            if lst[j] > lst[j+1]: #use for increasing order and use lst[j] < lst[j+1] for decreasing order\n",
    "                lst[j], lst[j+1] = lst[j+1], lst[j]\n",
    "    \n",
    "    return lst\n",
    "lst = [6, 2, 8, 4, 10]\n",
    "bubbleSort(lst)"
   ]
  },
  {
   "cell_type": "code",
   "execution_count": null,
   "id": "b214e41a",
   "metadata": {},
   "outputs": [],
   "source": []
  },
  {
   "cell_type": "code",
   "execution_count": 23,
   "id": "10aec35c",
   "metadata": {},
   "outputs": [
    {
     "data": {
      "text/plain": [
       "2"
      ]
     },
     "execution_count": 23,
     "metadata": {},
     "output_type": "execute_result"
    }
   ],
   "source": [
    "import math\n",
    "round(math.sqrt(5))"
   ]
  },
  {
   "cell_type": "code",
   "execution_count": 25,
   "id": "cec05900",
   "metadata": {},
   "outputs": [
    {
     "data": {
      "text/plain": [
       "[[], []]"
      ]
     },
     "execution_count": 25,
     "metadata": {},
     "output_type": "execute_result"
    }
   ],
   "source": [
    "numberofBuckets = round(math.sqrt(5))\n",
    "tempList = [6, 2, 8, 4, 10]\n",
    "maxVal = max(tempList)\n",
    "arr = []\n",
    "\n",
    "for i in range(numberofBuckets):\n",
    "    arr.append([])\n",
    "arr\n",
    "# math.ceil(j*numberofBuckets/maxVal)"
   ]
  },
  {
   "cell_type": "code",
   "execution_count": 27,
   "id": "38e57311",
   "metadata": {},
   "outputs": [
    {
     "data": {
      "text/plain": [
       "[2, 4, 6, 8, 10]"
      ]
     },
     "execution_count": 27,
     "metadata": {},
     "output_type": "execute_result"
    }
   ],
   "source": [
    "import math\n",
    "\n",
    "def BucketSort(lst):\n",
    "    arr = []\n",
    "    maxVal = max(lst)\n",
    "    noOfBuckets = round(math.sqrt(len(lst)))\n",
    "    \n",
    "    for i in range(noOfBuckets):\n",
    "        arr.append([])\n",
    "        \n",
    "    for j in lst:\n",
    "        index_b = math.ceil(j*noOfBuckets/maxVal)\n",
    "        arr[index_b-1].append(j)\n",
    "        \n",
    "    for l in range(noOfBuckets):\n",
    "        arr[l] = insertionSort(arr[l])\n",
    "    \n",
    "    k = 0\n",
    "    for a in range(noOfBuckets):\n",
    "        for b in range(len(arr[a])):\n",
    "            lst[k] = arr[a][b]\n",
    "            k += 1\n",
    "    return lst\n",
    "\n",
    "lst = [6, 2, 8, 4, 10]\n",
    "BucketSort(lst)"
   ]
  },
  {
   "cell_type": "code",
   "execution_count": 32,
   "id": "4ec88fa5",
   "metadata": {},
   "outputs": [
    {
     "data": {
      "text/plain": [
       "[0, 0]"
      ]
     },
     "execution_count": 32,
     "metadata": {},
     "output_type": "execute_result"
    }
   ],
   "source": [
    "L = [0] * (2)\n",
    "L"
   ]
  },
  {
   "cell_type": "code",
   "execution_count": null,
   "id": "6a5e0329",
   "metadata": {},
   "outputs": [],
   "source": [
    "def mergeSort(arr):\n",
    "\n",
    "    if len(arr) > 1:\n",
    "\n",
    "        a = len(arr)//2\n",
    "\n",
    "        l = arr[:a]\n",
    "\n",
    "        r = arr[a:]\n",
    "\n",
    "        # Sort the two halves\n",
    "\n",
    "        mergeSort(l)\n",
    "\n",
    "        mergeSort(r) \n",
    "\n",
    "        b = c = d = 0\n",
    "\n",
    "        while b < len(l) and c < len(r):\n",
    "\n",
    "            if l[b] < r[c]:\n",
    "\n",
    "                arr[d] = l[b]\n",
    "\n",
    "                b += 1\n",
    "\n",
    "            else:\n",
    "\n",
    "                arr[d] = r[c]\n",
    "\n",
    "                c += 1\n",
    "\n",
    "            d += 1\n",
    "\n",
    "        while b < len(l):\n",
    "\n",
    "            arr[d] = l[b]\n",
    "\n",
    "            b += 1\n",
    "\n",
    "            d += 1\n",
    "\n",
    "        while c < len(r):\n",
    "\n",
    "            arr[d] = r[c]\n",
    "\n",
    "            c += 1\n",
    "\n",
    "            d += 1\n",
    "\n",
    "\n",
    "def printList(arr):\n",
    "\n",
    "    for i in range(len(arr)):\n",
    "\n",
    "        print(arr[i], end=\" \")\n",
    "\n",
    "    print()\n",
    " \n",
    "\n",
    "# Driver program\n",
    "\n",
    "if __name__ == '__main__':\n",
    "\n",
    "    arr = [0,1,3,5,7,9,2,4,6,8] \n",
    "\n",
    "    mergeSort(arr) \n",
    "\n",
    "    print(\"Sorted array is: \")\n",
    "\n",
    "    printList(arr) "
   ]
  }
 ],
 "metadata": {
  "kernelspec": {
   "display_name": "Python 3",
   "language": "python",
   "name": "python3"
  },
  "language_info": {
   "codemirror_mode": {
    "name": "ipython",
    "version": 3
   },
   "file_extension": ".py",
   "mimetype": "text/x-python",
   "name": "python",
   "nbconvert_exporter": "python",
   "pygments_lexer": "ipython3",
   "version": "3.8.8"
  }
 },
 "nbformat": 4,
 "nbformat_minor": 5
}
